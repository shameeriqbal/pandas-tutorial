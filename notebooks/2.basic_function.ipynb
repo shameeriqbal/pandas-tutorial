{
 "cells": [
  {
   "cell_type": "markdown",
   "metadata": {},
   "source": [
    "We will create a function to find if a given number is even or odd.\n",
    "### Create a function called even_or_odd"
   ]
  },
  {
   "cell_type": "code",
   "execution_count": 1,
   "metadata": {
    "collapsed": true
   },
   "outputs": [],
   "source": [
    "def even_or_odd(num):\n",
    "    \"\"\"\n",
    "    Prints if the given number is even or odd\n",
    "    \n",
    "    Arguments:\n",
    "    num: number to check \n",
    "    \"\"\"\n",
    "    \n",
    "    # use the modulus to see if the division has any reminder\n",
    "    if num % 2 == 0:\n",
    "        # if the reminder is 0, then the number is even\n",
    "        print num, \" is even!\"\n",
    "    else:\n",
    "        # if the reminder is not 0, then its odd\n",
    "        print num, \" is odd!\"\n",
    "    \n",
    "    return"
   ]
  },
  {
   "cell_type": "markdown",
   "metadata": {},
   "source": [
    "### Call the function with an even number"
   ]
  },
  {
   "cell_type": "code",
   "execution_count": 2,
   "metadata": {
    "collapsed": false
   },
   "outputs": [
    {
     "name": "stdout",
     "output_type": "stream",
     "text": [
      "20  is even!\n"
     ]
    }
   ],
   "source": [
    "even_or_odd(20)"
   ]
  },
  {
   "cell_type": "markdown",
   "metadata": {},
   "source": [
    "### Call the function with an odd number"
   ]
  },
  {
   "cell_type": "code",
   "execution_count": 3,
   "metadata": {
    "collapsed": false
   },
   "outputs": [
    {
     "name": "stdout",
     "output_type": "stream",
     "text": [
      "17  is odd!\n"
     ]
    }
   ],
   "source": [
    "even_or_odd(17)"
   ]
  }
 ],
 "metadata": {
  "kernelspec": {
   "display_name": "Python 2",
   "language": "python",
   "name": "python2"
  },
  "language_info": {
   "codemirror_mode": {
    "name": "ipython",
    "version": 2
   },
   "file_extension": ".py",
   "mimetype": "text/x-python",
   "name": "python",
   "nbconvert_exporter": "python",
   "pygments_lexer": "ipython2",
   "version": "2.7.10"
  }
 },
 "nbformat": 4,
 "nbformat_minor": 1
}
