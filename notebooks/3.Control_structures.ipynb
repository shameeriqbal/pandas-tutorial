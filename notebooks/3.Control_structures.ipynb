{
 "cells": [
  {
   "cell_type": "markdown",
   "metadata": {
    "collapsed": true
   },
   "source": [
    "This exercise will show case two things:\n",
    "    1. Control structures\n",
    "    2. How to structure your program correctly\n",
    "   \n",
    "### Control structures\n",
    "Similar to other languages Python support various control structures such as:\n",
    "    1. If...else\n",
    "    2. For\n",
    "    3. While\n",
    "    4. Break, continue\n",
    "    5. But, no swtich\n",
    "### Making our Program DRY\n",
    "\n",
    "DRY stands for Don't repeat yourselves\n",
    "\n",
    "One should not repeat the same functionality or copy the same code again. So, we use functions just like the one we did in the previous exercise.\n",
    "\n",
    "However, the way we structured the program does not work well in the context of import.\n",
    "\n",
    "### Define a new function"
   ]
  },
  {
   "cell_type": "code",
   "execution_count": 1,
   "metadata": {
    "collapsed": false
   },
   "outputs": [],
   "source": [
    "def print_n_stars(n):\n",
    "    \"\"\"\n",
    "    Prints n no. of stars\n",
    "    \n",
    "    Arguments:\n",
    "    n: number of stars to print\n",
    "    \"\"\"\n",
    "    for i in range(n):\n",
    "        print \"*\", # having a ',' tells print not to insert a new line after print\n",
    "\n",
    "    print '' # inserts a new line after the loop\n",
    "    return"
   ]
  },
  {
   "cell_type": "markdown",
   "metadata": {},
   "source": [
    "### Changing how function is called\n",
    "Instead of immedialtely calling the function, we wrap the function call with an if condition:\n",
    "~~~~\n",
    "if __name__ == '__main__':\n",
    "~~~~\n",
    "Which is check if the script is run alone."
   ]
  },
  {
   "cell_type": "code",
   "execution_count": 2,
   "metadata": {
    "collapsed": false
   },
   "outputs": [
    {
     "name": "stdout",
     "output_type": "stream",
     "text": [
      "* \n",
      "* * \n",
      "* * * \n",
      "* * * * \n",
      "* * * * * \n",
      "Elif reached\n",
      "Stopping the loop\n"
     ]
    }
   ],
   "source": [
    "if __name__ == '__main__':\n",
    "    m = 5\n",
    "    i = 0\n",
    "    while True:\n",
    "        if i < m:\n",
    "            i = i +1\n",
    "            print_n_stars(i)\n",
    "        elif i==m:\n",
    "            i = i +1\n",
    "            print('Elif reached')\n",
    "        else:\n",
    "            print('Stopping the loop')\n",
    "            break"
   ]
  },
  {
   "cell_type": "markdown",
   "metadata": {},
   "source": [
    "However, this function call will not be called when imported in other scripts."
   ]
  }
 ],
 "metadata": {
  "kernelspec": {
   "display_name": "Python 2",
   "language": "python",
   "name": "python2"
  },
  "language_info": {
   "codemirror_mode": {
    "name": "ipython",
    "version": 2
   },
   "file_extension": ".py",
   "mimetype": "text/x-python",
   "name": "python",
   "nbconvert_exporter": "python",
   "pygments_lexer": "ipython2",
   "version": "2.7.10"
  }
 },
 "nbformat": 4,
 "nbformat_minor": 1
}
